{
 "cells": [
  {
   "cell_type": "markdown",
   "metadata": {},
   "source": [
    "## Context\n",
    "\n",
    "The dataset contains historical product demand for a manufacturing company with footprints globally. The company provides thousands of products within dozens of product categories. There are four central warehouses to ship products within the region it is responsible for. Since the products are manufactured in different locations all over the world, it normally takes more than one month to ship products via ocean to different central warehouses. If forecasts for each product in different central with reasonable accuracy for the monthly demand for month after next can be achieved, it would be beneficial to the company in multiple ways.\n",
    "\n",
    "## Inspiration\n",
    "Is it possible to make forecasts for thousands of products (some of them are highly variable in terms of monthly demand) for the the month after next?"
   ]
  },
  {
   "cell_type": "markdown",
   "metadata": {},
   "source": [
    "## Questions\n",
    "1. What is the demand change by SKU day by day?\n",
    "2. Who is the average top demand product?\n",
    "3. Which cateogory sells the best?\n",
    "4. What is the average capacity for each warehouse?\n",
    "5. Which warehouse carry the most SKUs?\n",
    "6. What the volumne trend by SKUs?\n",
    "7. Which SKU is the best seller?\n",
    "8. Should I drop the missing data?\n",
    "\n",
    "## Insights\n",
    "1. There are 33 categories, 2160 SKUs, and 4 warehouses\n",
    "2. We have missing dates of 11239\n",
    "3. There are 1048575 rows of data\n",
    "\n",
    "## Goal\n",
    "Since the average lead time takes 30 days from sourcing to warehouses, we are going to predict the next 30 days demand by warehouse by sku to help the company in a good inventory shape"
   ]
  },
  {
   "cell_type": "code",
   "execution_count": 1,
   "metadata": {
    "ExecuteTime": {
     "end_time": "2020-07-29T02:30:09.258492Z",
     "start_time": "2020-07-29T02:30:07.109582Z"
    }
   },
   "outputs": [],
   "source": [
    "import pandas as pd\n",
    "import numpy as np\n",
    "import matplotlib.pyplot as plt\n",
    "import seaborn as sns"
   ]
  },
  {
   "cell_type": "code",
   "execution_count": 88,
   "metadata": {
    "ExecuteTime": {
     "end_time": "2020-07-29T03:30:10.206625Z",
     "start_time": "2020-07-29T03:30:08.660523Z"
    }
   },
   "outputs": [
    {
     "data": {
      "text/html": [
       "<div>\n",
       "<style scoped>\n",
       "    .dataframe tbody tr th:only-of-type {\n",
       "        vertical-align: middle;\n",
       "    }\n",
       "\n",
       "    .dataframe tbody tr th {\n",
       "        vertical-align: top;\n",
       "    }\n",
       "\n",
       "    .dataframe thead th {\n",
       "        text-align: right;\n",
       "    }\n",
       "</style>\n",
       "<table border=\"1\" class=\"dataframe\">\n",
       "  <thead>\n",
       "    <tr style=\"text-align: right;\">\n",
       "      <th></th>\n",
       "      <th>Product_Code</th>\n",
       "      <th>Warehouse</th>\n",
       "      <th>Product_Category</th>\n",
       "      <th>Date</th>\n",
       "      <th>Order_Demand</th>\n",
       "    </tr>\n",
       "  </thead>\n",
       "  <tbody>\n",
       "    <tr>\n",
       "      <th>0</th>\n",
       "      <td>Product_0993</td>\n",
       "      <td>Whse_J</td>\n",
       "      <td>Category_028</td>\n",
       "      <td>2012-07-27</td>\n",
       "      <td>100</td>\n",
       "    </tr>\n",
       "    <tr>\n",
       "      <th>1</th>\n",
       "      <td>Product_0979</td>\n",
       "      <td>Whse_J</td>\n",
       "      <td>Category_028</td>\n",
       "      <td>2012-01-19</td>\n",
       "      <td>500</td>\n",
       "    </tr>\n",
       "    <tr>\n",
       "      <th>2</th>\n",
       "      <td>Product_0979</td>\n",
       "      <td>Whse_J</td>\n",
       "      <td>Category_028</td>\n",
       "      <td>2012-02-03</td>\n",
       "      <td>500</td>\n",
       "    </tr>\n",
       "    <tr>\n",
       "      <th>3</th>\n",
       "      <td>Product_0979</td>\n",
       "      <td>Whse_J</td>\n",
       "      <td>Category_028</td>\n",
       "      <td>2012-02-09</td>\n",
       "      <td>500</td>\n",
       "    </tr>\n",
       "    <tr>\n",
       "      <th>4</th>\n",
       "      <td>Product_0979</td>\n",
       "      <td>Whse_J</td>\n",
       "      <td>Category_028</td>\n",
       "      <td>2012-03-02</td>\n",
       "      <td>500</td>\n",
       "    </tr>\n",
       "    <tr>\n",
       "      <th>...</th>\n",
       "      <td>...</td>\n",
       "      <td>...</td>\n",
       "      <td>...</td>\n",
       "      <td>...</td>\n",
       "      <td>...</td>\n",
       "    </tr>\n",
       "    <tr>\n",
       "      <th>1048570</th>\n",
       "      <td>Product_1791</td>\n",
       "      <td>Whse_J</td>\n",
       "      <td>Category_006</td>\n",
       "      <td>2016-04-27</td>\n",
       "      <td>1000</td>\n",
       "    </tr>\n",
       "    <tr>\n",
       "      <th>1048571</th>\n",
       "      <td>Product_1974</td>\n",
       "      <td>Whse_J</td>\n",
       "      <td>Category_006</td>\n",
       "      <td>2016-04-27</td>\n",
       "      <td>1</td>\n",
       "    </tr>\n",
       "    <tr>\n",
       "      <th>1048572</th>\n",
       "      <td>Product_1787</td>\n",
       "      <td>Whse_J</td>\n",
       "      <td>Category_006</td>\n",
       "      <td>2016-04-28</td>\n",
       "      <td>2500</td>\n",
       "    </tr>\n",
       "    <tr>\n",
       "      <th>1048573</th>\n",
       "      <td>Product_0901</td>\n",
       "      <td>Whse_J</td>\n",
       "      <td>Category_023</td>\n",
       "      <td>2016-10-07</td>\n",
       "      <td>50</td>\n",
       "    </tr>\n",
       "    <tr>\n",
       "      <th>1048574</th>\n",
       "      <td>Product_0704</td>\n",
       "      <td>Whse_J</td>\n",
       "      <td>Category_001</td>\n",
       "      <td>2016-06-27</td>\n",
       "      <td>4</td>\n",
       "    </tr>\n",
       "  </tbody>\n",
       "</table>\n",
       "<p>1048575 rows × 5 columns</p>\n",
       "</div>"
      ],
      "text/plain": [
       "         Product_Code Warehouse Product_Category       Date Order_Demand\n",
       "0        Product_0993    Whse_J     Category_028 2012-07-27         100 \n",
       "1        Product_0979    Whse_J     Category_028 2012-01-19         500 \n",
       "2        Product_0979    Whse_J     Category_028 2012-02-03         500 \n",
       "3        Product_0979    Whse_J     Category_028 2012-02-09         500 \n",
       "4        Product_0979    Whse_J     Category_028 2012-03-02         500 \n",
       "...               ...       ...              ...        ...          ...\n",
       "1048570  Product_1791    Whse_J     Category_006 2016-04-27        1000 \n",
       "1048571  Product_1974    Whse_J     Category_006 2016-04-27           1 \n",
       "1048572  Product_1787    Whse_J     Category_006 2016-04-28        2500 \n",
       "1048573  Product_0901    Whse_J     Category_023 2016-10-07          50 \n",
       "1048574  Product_0704    Whse_J     Category_001 2016-06-27           4 \n",
       "\n",
       "[1048575 rows x 5 columns]"
      ]
     },
     "execution_count": 88,
     "metadata": {},
     "output_type": "execute_result"
    }
   ],
   "source": [
    "df = pd.read_csv(\"Historical Product Demand.csv\", parse_dates=[\"Date\"])\n",
    "df"
   ]
  },
  {
   "cell_type": "code",
   "execution_count": 8,
   "metadata": {
    "ExecuteTime": {
     "end_time": "2020-07-29T02:31:30.367806Z",
     "start_time": "2020-07-29T02:31:30.140736Z"
    }
   },
   "outputs": [
    {
     "name": "stdout",
     "output_type": "stream",
     "text": [
      "<class 'pandas.core.frame.DataFrame'>\n",
      "RangeIndex: 1048575 entries, 0 to 1048574\n",
      "Data columns (total 5 columns):\n",
      " #   Column            Non-Null Count    Dtype         \n",
      "---  ------            --------------    -----         \n",
      " 0   Product_Code      1048575 non-null  object        \n",
      " 1   Warehouse         1048575 non-null  object        \n",
      " 2   Product_Category  1048575 non-null  object        \n",
      " 3   Date              1037336 non-null  datetime64[ns]\n",
      " 4   Order_Demand      1048575 non-null  object        \n",
      "dtypes: datetime64[ns](1), object(4)\n",
      "memory usage: 40.0+ MB\n"
     ]
    }
   ],
   "source": [
    "df.info()"
   ]
  },
  {
   "cell_type": "code",
   "execution_count": 9,
   "metadata": {
    "ExecuteTime": {
     "end_time": "2020-07-29T02:31:44.896071Z",
     "start_time": "2020-07-29T02:31:44.698711Z"
    }
   },
   "outputs": [
    {
     "data": {
      "text/plain": [
       "Product_Code            0\n",
       "Warehouse               0\n",
       "Product_Category        0\n",
       "Date                11239\n",
       "Order_Demand            0\n",
       "dtype: int64"
      ]
     },
     "execution_count": 9,
     "metadata": {},
     "output_type": "execute_result"
    }
   ],
   "source": [
    "df.isna().sum()"
   ]
  },
  {
   "cell_type": "code",
   "execution_count": 20,
   "metadata": {
    "ExecuteTime": {
     "end_time": "2020-07-29T02:35:41.846816Z",
     "start_time": "2020-07-29T02:35:41.729731Z"
    }
   },
   "outputs": [
    {
     "data": {
      "text/plain": [
       "(array(['Category_028', 'Category_006', 'Category_001', 'Category_019',\n",
       "        'Category_005', 'Category_030', 'Category_032', 'Category_011',\n",
       "        'Category_033', 'Category_007', 'Category_015', 'Category_021',\n",
       "        'Category_024', 'Category_026', 'Category_023', 'Category_022',\n",
       "        'Category_009', 'Category_003', 'Category_004', 'Category_018',\n",
       "        'Category_020', 'Category_013', 'Category_008', 'Category_017',\n",
       "        'Category_031', 'Category_025', 'Category_010', 'Category_029',\n",
       "        'Category_012', 'Category_002', 'Category_014', 'Category_027',\n",
       "        'Category_016'], dtype=object),\n",
       " 33)"
      ]
     },
     "execution_count": 20,
     "metadata": {},
     "output_type": "execute_result"
    }
   ],
   "source": [
    "# 33 Categories\n",
    "df.Product_Category.unique(), df.Product_Category.nunique()"
   ]
  },
  {
   "cell_type": "code",
   "execution_count": 22,
   "metadata": {
    "ExecuteTime": {
     "end_time": "2020-07-29T02:37:15.654504Z",
     "start_time": "2020-07-29T02:37:15.535249Z"
    }
   },
   "outputs": [
    {
     "data": {
      "text/plain": [
       "(array(['Product_0993', 'Product_0979', 'Product_1159', ...,\n",
       "        'Product_0237', 'Product_0644', 'Product_0853'], dtype=object),\n",
       " 2160)"
      ]
     },
     "execution_count": 22,
     "metadata": {},
     "output_type": "execute_result"
    }
   ],
   "source": [
    "# 2160 SKUs\n",
    "df.Product_Code.unique(), df.Product_Code.nunique()"
   ]
  },
  {
   "cell_type": "code",
   "execution_count": 21,
   "metadata": {
    "ExecuteTime": {
     "end_time": "2020-07-29T02:36:32.543066Z",
     "start_time": "2020-07-29T02:36:32.430490Z"
    }
   },
   "outputs": [
    {
     "data": {
      "text/plain": [
       "(array(['Whse_J', 'Whse_S', 'Whse_C', 'Whse_A'], dtype=object), 4)"
      ]
     },
     "execution_count": 21,
     "metadata": {},
     "output_type": "execute_result"
    }
   ],
   "source": [
    "# 4 warehouses\n",
    "df.Warehouse.unique(), df.Warehouse.nunique()"
   ]
  },
  {
   "cell_type": "code",
   "execution_count": 10,
   "metadata": {
    "ExecuteTime": {
     "end_time": "2020-07-29T02:31:47.385166Z",
     "start_time": "2020-07-29T02:31:47.373270Z"
    }
   },
   "outputs": [
    {
     "data": {
      "text/plain": [
       "0     2012-07-27\n",
       "1     2012-01-19\n",
       "2     2012-02-03\n",
       "3     2012-02-09\n",
       "4     2012-03-02\n",
       "         ...    \n",
       "995   2012-09-28\n",
       "996   2012-12-12\n",
       "997   2012-01-31\n",
       "998   2012-03-02\n",
       "999   2012-03-02\n",
       "Name: Date, Length: 1000, dtype: datetime64[ns]"
      ]
     },
     "execution_count": 10,
     "metadata": {},
     "output_type": "execute_result"
    }
   ],
   "source": [
    "df.Date[:1000]"
   ]
  },
  {
   "cell_type": "code",
   "execution_count": 14,
   "metadata": {
    "ExecuteTime": {
     "end_time": "2020-07-29T02:33:25.839967Z",
     "start_time": "2020-07-29T02:33:24.823596Z"
    }
   },
   "outputs": [
    {
     "data": {
      "image/png": "[encoded data removed]",
      "text/plain": [
       "<Figure size 432x288 with 1 Axes>"
      ]
     },
     "metadata": {
      "needs_background": "dark"
     },
     "output_type": "display_data"
    }
   ],
   "source": [
    "fig, ax = plt.subplots()\n",
    "ax.scatter(df['Date'][:500],df['Order_Demand'][:500]);"
   ]
  },
  {
   "cell_type": "code",
   "execution_count": 94,
   "metadata": {
    "ExecuteTime": {
     "end_time": "2020-07-29T03:41:35.998023Z",
     "start_time": "2020-07-29T03:41:35.626246Z"
    }
   },
   "outputs": [
    {
     "data": {
      "text/html": [
       "<div>\n",
       "<style scoped>\n",
       "    .dataframe tbody tr th:only-of-type {\n",
       "        vertical-align: middle;\n",
       "    }\n",
       "\n",
       "    .dataframe tbody tr th {\n",
       "        vertical-align: top;\n",
       "    }\n",
       "\n",
       "    .dataframe thead th {\n",
       "        text-align: right;\n",
       "    }\n",
       "</style>\n",
       "<table border=\"1\" class=\"dataframe\">\n",
       "  <thead>\n",
       "    <tr style=\"text-align: right;\">\n",
       "      <th></th>\n",
       "      <th>Product_Code</th>\n",
       "      <th>Warehouse</th>\n",
       "      <th>Product_Category</th>\n",
       "      <th>Date</th>\n",
       "      <th>Order_Demand</th>\n",
       "    </tr>\n",
       "  </thead>\n",
       "  <tbody>\n",
       "    <tr>\n",
       "      <th>44799</th>\n",
       "      <td>Product_0965</td>\n",
       "      <td>Whse_A</td>\n",
       "      <td>Category_006</td>\n",
       "      <td>2011-01-08</td>\n",
       "      <td>2</td>\n",
       "    </tr>\n",
       "    <tr>\n",
       "      <th>72252</th>\n",
       "      <td>Product_1724</td>\n",
       "      <td>Whse_A</td>\n",
       "      <td>Category_003</td>\n",
       "      <td>2011-05-31</td>\n",
       "      <td>108</td>\n",
       "    </tr>\n",
       "    <tr>\n",
       "      <th>8431</th>\n",
       "      <td>Product_1521</td>\n",
       "      <td>Whse_S</td>\n",
       "      <td>Category_019</td>\n",
       "      <td>2011-06-24</td>\n",
       "      <td>85000</td>\n",
       "    </tr>\n",
       "    <tr>\n",
       "      <th>8432</th>\n",
       "      <td>Product_1521</td>\n",
       "      <td>Whse_S</td>\n",
       "      <td>Category_019</td>\n",
       "      <td>2011-06-24</td>\n",
       "      <td>7000</td>\n",
       "    </tr>\n",
       "    <tr>\n",
       "      <th>72669</th>\n",
       "      <td>Product_1507</td>\n",
       "      <td>Whse_C</td>\n",
       "      <td>Category_019</td>\n",
       "      <td>2011-09-02</td>\n",
       "      <td>1250</td>\n",
       "    </tr>\n",
       "    <tr>\n",
       "      <th>...</th>\n",
       "      <td>...</td>\n",
       "      <td>...</td>\n",
       "      <td>...</td>\n",
       "      <td>...</td>\n",
       "      <td>...</td>\n",
       "    </tr>\n",
       "    <tr>\n",
       "      <th>995790</th>\n",
       "      <td>Product_1464</td>\n",
       "      <td>Whse_A</td>\n",
       "      <td>Category_019</td>\n",
       "      <td>NaT</td>\n",
       "      <td>(900)</td>\n",
       "    </tr>\n",
       "    <tr>\n",
       "      <th>995791</th>\n",
       "      <td>Product_1541</td>\n",
       "      <td>Whse_A</td>\n",
       "      <td>Category_019</td>\n",
       "      <td>NaT</td>\n",
       "      <td>(200)</td>\n",
       "    </tr>\n",
       "    <tr>\n",
       "      <th>995792</th>\n",
       "      <td>Product_1388</td>\n",
       "      <td>Whse_A</td>\n",
       "      <td>Category_019</td>\n",
       "      <td>NaT</td>\n",
       "      <td>(300)</td>\n",
       "    </tr>\n",
       "    <tr>\n",
       "      <th>995793</th>\n",
       "      <td>Product_1541</td>\n",
       "      <td>Whse_A</td>\n",
       "      <td>Category_019</td>\n",
       "      <td>NaT</td>\n",
       "      <td>(300)</td>\n",
       "    </tr>\n",
       "    <tr>\n",
       "      <th>995794</th>\n",
       "      <td>Product_1509</td>\n",
       "      <td>Whse_A</td>\n",
       "      <td>Category_019</td>\n",
       "      <td>NaT</td>\n",
       "      <td>(200)</td>\n",
       "    </tr>\n",
       "  </tbody>\n",
       "</table>\n",
       "<p>1048575 rows × 5 columns</p>\n",
       "</div>"
      ],
      "text/plain": [
       "        Product_Code Warehouse Product_Category       Date Order_Demand\n",
       "44799   Product_0965    Whse_A     Category_006 2011-01-08           2 \n",
       "72252   Product_1724    Whse_A     Category_003 2011-05-31         108 \n",
       "8431    Product_1521    Whse_S     Category_019 2011-06-24       85000 \n",
       "8432    Product_1521    Whse_S     Category_019 2011-06-24        7000 \n",
       "72669   Product_1507    Whse_C     Category_019 2011-09-02        1250 \n",
       "...              ...       ...              ...        ...          ...\n",
       "995790  Product_1464    Whse_A     Category_019        NaT        (900)\n",
       "995791  Product_1541    Whse_A     Category_019        NaT        (200)\n",
       "995792  Product_1388    Whse_A     Category_019        NaT        (300)\n",
       "995793  Product_1541    Whse_A     Category_019        NaT        (300)\n",
       "995794  Product_1509    Whse_A     Category_019        NaT        (200)\n",
       "\n",
       "[1048575 rows x 5 columns]"
      ]
     },
     "execution_count": 94,
     "metadata": {},
     "output_type": "execute_result"
    }
   ],
   "source": [
    "# Sort Date by ASC\n",
    "df.sort_values(by=[\"Date\"], inplace=True, ascending=True)\n",
    "df"
   ]
  },
  {
   "cell_type": "code",
   "execution_count": 104,
   "metadata": {
    "ExecuteTime": {
     "end_time": "2020-07-29T03:44:21.157453Z",
     "start_time": "2020-07-29T03:44:19.502283Z"
    }
   },
   "outputs": [
    {
     "name": "stdout",
     "output_type": "stream",
     "text": [
      "<class 'pandas.core.frame.DataFrame'>\n",
      "Int64Index: 1048575 entries, 44799 to 995794\n",
      "Data columns (total 5 columns):\n",
      " #   Column            Non-Null Count    Dtype         \n",
      "---  ------            --------------    -----         \n",
      " 0   Product_Code      1048575 non-null  object        \n",
      " 1   Warehouse         1048575 non-null  object        \n",
      " 2   Product_Category  1048575 non-null  object        \n",
      " 3   Date              1037336 non-null  datetime64[ns]\n",
      " 4   Order_Demand      1048575 non-null  int64         \n",
      "dtypes: datetime64[ns](1), int64(1), object(3)\n",
      "memory usage: 48.0+ MB\n"
     ]
    }
   ],
   "source": [
    "# df.Order_Demand = df.Order_Demand.replace('(',\"-\").replace(')',\"\")\n",
    "df.Order_Demand = df.Order_Demand.str.replace('(','')\n",
    "df.Order_Demand = df.Order_Demand.str.replace(')','')\n",
    "df.Order_Demand = df.Order_Demand.astype('int')\n",
    "df.info()"
   ]
  },
  {
   "cell_type": "code",
   "execution_count": 75,
   "metadata": {
    "ExecuteTime": {
     "end_time": "2020-07-29T03:15:31.219970Z",
     "start_time": "2020-07-29T03:15:31.206703Z"
    }
   },
   "outputs": [
    {
     "data": {
      "text/plain": [
       "(82, array(['Whse_A'], dtype=object))"
      ]
     },
     "execution_count": 75,
     "metadata": {},
     "output_type": "execute_result"
    }
   ],
   "source": [
    "# What is missing?\n",
    "df_na = df[df.Date.isnull()]\n",
    "df_na.Product_Code.nunique(), df_na.Warehouse.unique()\n",
    "# It looks like we have trouble on Warehouse A for the records\n",
    "# Let's check how many total rows for Warehouse A"
   ]
  },
  {
   "cell_type": "code",
   "execution_count": 76,
   "metadata": {
    "ExecuteTime": {
     "end_time": "2020-07-29T03:17:15.665679Z",
     "start_time": "2020-07-29T03:17:15.501907Z"
    }
   },
   "outputs": [
    {
     "data": {
      "text/plain": [
       "Product_Code        153574\n",
       "Warehouse           153574\n",
       "Product_Category    153574\n",
       "Date                142335\n",
       "Order_Demand        153574\n",
       "dtype: int64"
      ]
     },
     "execution_count": 76,
     "metadata": {},
     "output_type": "execute_result"
    }
   ],
   "source": [
    "# The total record of Warehouse A is 153574\n",
    "df[df.Warehouse=='Whse_A'].count()\n",
    "\n",
    "# Should we drop the data without dates?\n",
    "# What percentage of total data would impact"
   ]
  },
  {
   "cell_type": "markdown",
   "metadata": {},
   "source": [
    "## Drop NA date"
   ]
  },
  {
   "cell_type": "code",
   "execution_count": 105,
   "metadata": {
    "ExecuteTime": {
     "end_time": "2020-07-29T03:44:43.295562Z",
     "start_time": "2020-07-29T03:44:42.727619Z"
    }
   },
   "outputs": [
    {
     "name": "stdout",
     "output_type": "stream",
     "text": [
      "<class 'pandas.core.frame.DataFrame'>\n",
      "Int64Index: 1037336 entries, 44799 to 908844\n",
      "Data columns (total 5 columns):\n",
      " #   Column            Non-Null Count    Dtype         \n",
      "---  ------            --------------    -----         \n",
      " 0   Product_Code      1037336 non-null  object        \n",
      " 1   Warehouse         1037336 non-null  object        \n",
      " 2   Product_Category  1037336 non-null  object        \n",
      " 3   Date              1037336 non-null  datetime64[ns]\n",
      " 4   Order_Demand      1037336 non-null  int64         \n",
      "dtypes: datetime64[ns](1), int64(1), object(3)\n",
      "memory usage: 47.5+ MB\n"
     ]
    }
   ],
   "source": [
    "\n",
    "df_tmp = df.copy()\n",
    "df_tmp = df_tmp.dropna()\n",
    "df_tmp.info()"
   ]
  },
  {
   "cell_type": "code",
   "execution_count": 106,
   "metadata": {
    "ExecuteTime": {
     "end_time": "2020-07-29T03:44:47.202540Z",
     "start_time": "2020-07-29T03:44:47.182278Z"
    }
   },
   "outputs": [
    {
     "data": {
      "text/html": [
       "<div>\n",
       "<style scoped>\n",
       "    .dataframe tbody tr th:only-of-type {\n",
       "        vertical-align: middle;\n",
       "    }\n",
       "\n",
       "    .dataframe tbody tr th {\n",
       "        vertical-align: top;\n",
       "    }\n",
       "\n",
       "    .dataframe thead th {\n",
       "        text-align: right;\n",
       "    }\n",
       "</style>\n",
       "<table border=\"1\" class=\"dataframe\">\n",
       "  <thead>\n",
       "    <tr style=\"text-align: right;\">\n",
       "      <th></th>\n",
       "      <th>Product_Code</th>\n",
       "      <th>Warehouse</th>\n",
       "      <th>Product_Category</th>\n",
       "      <th>Date</th>\n",
       "      <th>Order_Demand</th>\n",
       "    </tr>\n",
       "  </thead>\n",
       "  <tbody>\n",
       "    <tr>\n",
       "      <th>44799</th>\n",
       "      <td>Product_0965</td>\n",
       "      <td>Whse_A</td>\n",
       "      <td>Category_006</td>\n",
       "      <td>2011-01-08</td>\n",
       "      <td>2</td>\n",
       "    </tr>\n",
       "    <tr>\n",
       "      <th>72252</th>\n",
       "      <td>Product_1724</td>\n",
       "      <td>Whse_A</td>\n",
       "      <td>Category_003</td>\n",
       "      <td>2011-05-31</td>\n",
       "      <td>108</td>\n",
       "    </tr>\n",
       "    <tr>\n",
       "      <th>8431</th>\n",
       "      <td>Product_1521</td>\n",
       "      <td>Whse_S</td>\n",
       "      <td>Category_019</td>\n",
       "      <td>2011-06-24</td>\n",
       "      <td>85000</td>\n",
       "    </tr>\n",
       "    <tr>\n",
       "      <th>8432</th>\n",
       "      <td>Product_1521</td>\n",
       "      <td>Whse_S</td>\n",
       "      <td>Category_019</td>\n",
       "      <td>2011-06-24</td>\n",
       "      <td>7000</td>\n",
       "    </tr>\n",
       "    <tr>\n",
       "      <th>72669</th>\n",
       "      <td>Product_1507</td>\n",
       "      <td>Whse_C</td>\n",
       "      <td>Category_019</td>\n",
       "      <td>2011-09-02</td>\n",
       "      <td>1250</td>\n",
       "    </tr>\n",
       "    <tr>\n",
       "      <th>...</th>\n",
       "      <td>...</td>\n",
       "      <td>...</td>\n",
       "      <td>...</td>\n",
       "      <td>...</td>\n",
       "      <td>...</td>\n",
       "    </tr>\n",
       "    <tr>\n",
       "      <th>919651</th>\n",
       "      <td>Product_1926</td>\n",
       "      <td>Whse_J</td>\n",
       "      <td>Category_001</td>\n",
       "      <td>2017-01-06</td>\n",
       "      <td>2</td>\n",
       "    </tr>\n",
       "    <tr>\n",
       "      <th>920149</th>\n",
       "      <td>Product_0025</td>\n",
       "      <td>Whse_J</td>\n",
       "      <td>Category_005</td>\n",
       "      <td>2017-01-06</td>\n",
       "      <td>400</td>\n",
       "    </tr>\n",
       "    <tr>\n",
       "      <th>863020</th>\n",
       "      <td>Product_1904</td>\n",
       "      <td>Whse_C</td>\n",
       "      <td>Category_019</td>\n",
       "      <td>2017-01-09</td>\n",
       "      <td>4000</td>\n",
       "    </tr>\n",
       "    <tr>\n",
       "      <th>908447</th>\n",
       "      <td>Product_0250</td>\n",
       "      <td>Whse_C</td>\n",
       "      <td>Category_007</td>\n",
       "      <td>2017-01-09</td>\n",
       "      <td>148</td>\n",
       "    </tr>\n",
       "    <tr>\n",
       "      <th>908844</th>\n",
       "      <td>Product_0471</td>\n",
       "      <td>Whse_C</td>\n",
       "      <td>Category_015</td>\n",
       "      <td>2017-01-09</td>\n",
       "      <td>30</td>\n",
       "    </tr>\n",
       "  </tbody>\n",
       "</table>\n",
       "<p>1037336 rows × 5 columns</p>\n",
       "</div>"
      ],
      "text/plain": [
       "        Product_Code Warehouse Product_Category       Date  Order_Demand\n",
       "44799   Product_0965    Whse_A     Category_006 2011-01-08             2\n",
       "72252   Product_1724    Whse_A     Category_003 2011-05-31           108\n",
       "8431    Product_1521    Whse_S     Category_019 2011-06-24         85000\n",
       "8432    Product_1521    Whse_S     Category_019 2011-06-24          7000\n",
       "72669   Product_1507    Whse_C     Category_019 2011-09-02          1250\n",
       "...              ...       ...              ...        ...           ...\n",
       "919651  Product_1926    Whse_J     Category_001 2017-01-06             2\n",
       "920149  Product_0025    Whse_J     Category_005 2017-01-06           400\n",
       "863020  Product_1904    Whse_C     Category_019 2017-01-09          4000\n",
       "908447  Product_0250    Whse_C     Category_007 2017-01-09           148\n",
       "908844  Product_0471    Whse_C     Category_015 2017-01-09            30\n",
       "\n",
       "[1037336 rows x 5 columns]"
      ]
     },
     "execution_count": 106,
     "metadata": {},
     "output_type": "execute_result"
    }
   ],
   "source": [
    "df_tmp"
   ]
  },
  {
   "cell_type": "code",
   "execution_count": 118,
   "metadata": {
    "ExecuteTime": {
     "end_time": "2020-07-29T03:50:53.640994Z",
     "start_time": "2020-07-29T03:50:53.381914Z"
    }
   },
   "outputs": [
    {
     "data": {
      "image/png": "[encoded data removed]",
      "text/plain": [
       "<Figure size 432x288 with 1 Axes>"
      ]
     },
     "metadata": {
      "needs_background": "dark"
     },
     "output_type": "display_data"
    }
   ],
   "source": [
    "df_tmp_warehouse = df_tmp.groupby('Warehouse').sum().reset_index()\n",
    "fig, ax = plt.subplots()\n",
    "ax.bar(df_tmp_warehouse[\"Warehouse\"], df_tmp_warehouse[\"Order_Demand\"], label=\"Order_Demand\",\n",
    "      edgecolor=\"k\", color=[\"red\",\"blue\",\"green\",\"yellow\"]);\n",
    "ax.set_xlabel(\"Warehouse\");\n",
    "ax.set_xticks(df_tmp_warehouse[\"Warehouse\"]);"
   ]
  },
  {
   "cell_type": "code",
   "execution_count": null,
   "metadata": {},
   "outputs": [],
   "source": []
  }
 ],
 "metadata": {
  "kernelspec": {
   "display_name": "Python 3",
   "language": "python",
   "name": "python3"
  },
  "language_info": {
   "codemirror_mode": {
    "name": "ipython",
    "version": 3
   },
   "file_extension": ".py",
   "mimetype": "text/x-python",
   "name": "python",
   "nbconvert_exporter": "python",
   "pygments_lexer": "ipython3",
   "version": "3.7.6"
  }
 },
 "nbformat": 4,
 "nbformat_minor": 4
}
